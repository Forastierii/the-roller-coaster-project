{
 "cells": [
  {
   "cell_type": "markdown",
   "metadata": {},
   "source": [
    "# Importing the libraries"
   ]
  },
  {
   "cell_type": "code",
   "execution_count": 1,
   "metadata": {
    "ExecuteTime": {
     "end_time": "2022-02-17T21:52:06.875263Z",
     "start_time": "2022-02-17T21:52:00.779699Z"
    }
   },
   "outputs": [],
   "source": [
    "import pandas as pd\n",
    "import numpy as np\n",
    "import requests #for API\n",
    "pd.set_option('display.max_columns', None)"
   ]
  },
  {
   "cell_type": "markdown",
   "metadata": {},
   "source": [
    "# Importing the data\n",
    "First of all we will import both data from the rollercoaster database API and the accidents CSV."
   ]
  },
  {
   "cell_type": "markdown",
   "metadata": {},
   "source": [
    "## Accidents CSV"
   ]
  },
  {
   "cell_type": "code",
   "execution_count": 2,
   "metadata": {
    "ExecuteTime": {
     "end_time": "2022-02-17T21:52:07.380502Z",
     "start_time": "2022-02-17T21:52:06.913300Z"
    }
   },
   "outputs": [],
   "source": [
    "accident1 = pd.read_csv('datasource/Saferparks-dataset-2017-v3.csv', sep=',', encoding='cp1252')"
   ]
  },
  {
   "cell_type": "code",
   "execution_count": 3,
   "metadata": {
    "ExecuteTime": {
     "end_time": "2022-02-17T21:52:07.926562Z",
     "start_time": "2022-02-17T21:52:07.505931Z"
    }
   },
   "outputs": [],
   "source": [
    "accident2 = pd.read_csv('datasource/Saferparks-dataset-legacy-v2.csv', sep=',', encoding='cp1252')"
   ]
  },
  {
   "cell_type": "code",
   "execution_count": 4,
   "metadata": {
    "ExecuteTime": {
     "end_time": "2022-02-17T21:52:08.159723Z",
     "start_time": "2022-02-17T21:52:07.973915Z"
    }
   },
   "outputs": [],
   "source": [
    "er = pd.read_csv('datasource/Saferparks-dataset-neiss.csv', sep=',', encoding='cp1252')"
   ]
  },
  {
   "cell_type": "markdown",
   "metadata": {},
   "source": [
    "## Rollercoasters database API"
   ]
  },
  {
   "cell_type": "code",
   "execution_count": 83,
   "metadata": {
    "ExecuteTime": {
     "end_time": "2022-02-18T01:12:19.668373Z",
     "start_time": "2022-02-18T01:12:18.598930Z"
    }
   },
   "outputs": [],
   "source": [
    "response = requests.get('https://coasters-api.herokuapp.com/')"
   ]
  },
  {
   "cell_type": "code",
   "execution_count": 84,
   "metadata": {
    "ExecuteTime": {
     "end_time": "2022-02-18T01:12:19.747316Z",
     "start_time": "2022-02-18T01:12:19.734314Z"
    }
   },
   "outputs": [
    {
     "data": {
      "text/plain": [
       "requests.models.Response"
      ]
     },
     "execution_count": 84,
     "metadata": {},
     "output_type": "execute_result"
    }
   ],
   "source": [
    "type(response)"
   ]
  },
  {
   "cell_type": "code",
   "execution_count": 85,
   "metadata": {
    "ExecuteTime": {
     "end_time": "2022-02-18T01:12:19.839938Z",
     "start_time": "2022-02-18T01:12:19.826918Z"
    }
   },
   "outputs": [
    {
     "data": {
      "text/plain": [
       "<Response [200]>"
      ]
     },
     "execution_count": 85,
     "metadata": {},
     "output_type": "execute_result"
    }
   ],
   "source": [
    "response"
   ]
  },
  {
   "cell_type": "markdown",
   "metadata": {},
   "source": [
    "If we read the json, we retrieve a list where each element refers to a specific rollercoaster."
   ]
  },
  {
   "cell_type": "code",
   "execution_count": 86,
   "metadata": {
    "ExecuteTime": {
     "end_time": "2022-02-18T01:12:19.949918Z",
     "start_time": "2022-02-18T01:12:19.919917Z"
    }
   },
   "outputs": [
    {
     "data": {
      "text/plain": [
       "[{'length': 950,\n",
       "  'height': 138,\n",
       "  'speed': 206,\n",
       "  'inversions': 0,\n",
       "  'gForce': None,\n",
       "  'country': 'United States',\n",
       "  'year': 2005,\n",
       "  'type': ['Roller Coaster', 'Steel', 'Sit Down', 'Extreme'],\n",
       "  '_id': '5e8ef56a60fa824d1e2db3bf',\n",
       "  'name': 'Kingda Ka',\n",
       "  'park': 'Six Flags Great Adventure',\n",
       "  'model': 'Accelerator Coaster',\n",
       "  'createdAt': '2020-04-09T10:14:02.717Z',\n",
       "  'updatedAt': '2020-04-09T10:14:02.717Z',\n",
       "  '__v': 0},\n",
       " {'length': 853,\n",
       "  'height': 128,\n",
       "  'speed': 193,\n",
       "  'inversions': 0,\n",
       "  'gForce': None,\n",
       "  'country': 'United States',\n",
       "  'year': 2003,\n",
       "  'type': ['Roller Coaster', 'Steel', 'Sit Down', 'Extreme'],\n",
       "  '_id': '5e8ef56a60fa824d1e2db3c0',\n",
       "  'name': 'Top Thrill Dragster',\n",
       "  'park': 'Cedar Point',\n",
       "  'model': 'Accelerator Coaster',\n",
       "  'createdAt': '2020-04-09T10:14:02.717Z',\n",
       "  'updatedAt': '2020-04-09T10:14:02.717Z',\n",
       "  '__v': 0},\n",
       " {'length': 2000,\n",
       "  'height': 51,\n",
       "  'speed': 240,\n",
       "  'inversions': 0,\n",
       "  'gForce': 4.8,\n",
       "  'country': 'United Arab Emirates',\n",
       "  'year': 2010,\n",
       "  'type': ['Roller Coaster', 'Steel', 'Sit Down', 'Extreme'],\n",
       "  '_id': '5e8ef56a60fa824d1e2db3be',\n",
       "  'name': 'Formula Rossa-',\n",
       "  'park': 'Ferrari World Abu Dhabi',\n",
       "  'model': 'Accelerator Coaster',\n",
       "  'createdAt': '2020-04-09T10:14:02.716Z',\n",
       "  'updatedAt': '2020-04-09T10:14:02.716Z',\n",
       "  '__v': 0},\n",
       " {'length': 1243,\n",
       "  'height': 49,\n",
       "  'speed': 179,\n",
       "  'inversions': 1,\n",
       "  'gForce': None,\n",
       "  'country': 'Japan',\n",
       "  'year': 2001,\n",
       "  'type': ['Roller Coaster', 'Steel', 'Sit Down', 'Extreme'],\n",
       "  '_id': '5e8ef56a60fa824d1e2db3c1',\n",
       "  'name': 'Do-Dodonpa',\n",
       "  'park': 'Fuji-Q Highland',\n",
       "  'model': 'Thrust Air Coaster',\n",
       "  'createdAt': '2020-04-09T10:14:02.717Z',\n",
       "  'updatedAt': '2020-04-09T10:14:02.717Z',\n",
       "  '__v': 0},\n",
       " {'length': 880,\n",
       "  'height': 111,\n",
       "  'speed': 179,\n",
       "  'inversions': 0,\n",
       "  'gForce': None,\n",
       "  'country': 'Spain',\n",
       "  'year': 2017,\n",
       "  'type': ['Roller Coaster', 'Steel', 'Sit Down', 'Extreme'],\n",
       "  '_id': '5e8ef56a60fa824d1e2db3c2',\n",
       "  'name': 'Red Force',\n",
       "  'park': 'Ferrari Land',\n",
       "  'model': 'Accelerator Coaster',\n",
       "  'createdAt': '2020-04-09T10:14:02.717Z',\n",
       "  'updatedAt': '2020-04-09T10:14:02.717Z',\n",
       "  '__v': 0},\n",
       " {'length': 2478,\n",
       "  'height': 97,\n",
       "  'speed': 152,\n",
       "  'inversions': 0,\n",
       "  'gForce': None,\n",
       "  'country': 'Japan',\n",
       "  'year': 2000,\n",
       "  'type': ['Roller Coaster', 'Steel', 'Sit Down', 'Extreme'],\n",
       "  '_id': '5e8ef56a60fa824d1e2db3c3',\n",
       "  'name': 'Steel Dragon 2000',\n",
       "  'park': 'Nagashima Spa Land',\n",
       "  'model': 'Hyper Coaster',\n",
       "  'createdAt': '2020-04-09T10:14:02.717Z',\n",
       "  'updatedAt': '2020-04-09T10:14:02.717Z',\n",
       "  '__v': 0},\n",
       " {'length': 2012,\n",
       "  'height': 99,\n",
       "  'speed': 152,\n",
       "  'inversions': 0,\n",
       "  'gForce': None,\n",
       "  'country': 'United Kingdom',\n",
       "  'year': 2015,\n",
       "  'type': ['Roller Coaster', 'Steel', 'Sit Down', 'Extreme'],\n",
       "  '_id': '5e8ef56a60fa824d1e2db3c4',\n",
       "  'name': 'Fury 325',\n",
       "  'park': 'Carowinds',\n",
       "  'model': 'Hyper Coaster',\n",
       "  'createdAt': '2020-04-09T10:14:02.717Z',\n",
       "  'updatedAt': '2020-04-09T10:14:02.717Z',\n",
       "  '__v': 0},\n",
       " {'length': 2010,\n",
       "  'height': 94,\n",
       "  'speed': 149,\n",
       "  'inversions': 0,\n",
       "  'gForce': None,\n",
       "  'country': 'United States',\n",
       "  'year': 2000,\n",
       "  'type': ['Roller Coaster', 'Steel', 'Sit Down', 'Extreme'],\n",
       "  '_id': '5e8ef56a60fa824d1e2db3c5',\n",
       "  'name': 'Millennium Force',\n",
       "  'park': 'Cedar Point',\n",
       "  'model': 'Giga Coaster',\n",
       "  'createdAt': '2020-04-09T10:14:02.717Z',\n",
       "  'updatedAt': '2020-04-09T10:14:02.717Z',\n",
       "  '__v': 0},\n",
       " {'length': 1672,\n",
       "  'height': 93,\n",
       "  'speed': 148,\n",
       "  'inversions': 0,\n",
       "  'gForce': None,\n",
       "  'country': 'Canada',\n",
       "  'year': 2012,\n",
       "  'type': ['Roller Coaster', 'Steel', 'Sit Down', 'Extreme'],\n",
       "  '_id': '5e8ef56a60fa824d1e2db3c6',\n",
       "  'name': 'Leviathan',\n",
       "  'park': \"Canada's Wonderland\",\n",
       "  'model': 'Hyper Coaster',\n",
       "  'createdAt': '2020-04-09T10:14:02.717Z',\n",
       "  'updatedAt': '2020-04-09T10:14:02.717Z',\n",
       "  '__v': 0},\n",
       " {'length': 1621,\n",
       "  'height': 87,\n",
       "  'speed': 146,\n",
       "  'inversions': 0,\n",
       "  'gForce': None,\n",
       "  'country': 'United States',\n",
       "  'year': 2020,\n",
       "  'type': ['Roller Coaster', 'Steel', 'Sit Down', 'Extreme'],\n",
       "  '_id': '5e8ef56a60fa824d1e2db3c7',\n",
       "  'name': 'Orion',\n",
       "  'park': 'Kings Island',\n",
       "  'model': 'Hyper Coaster',\n",
       "  'createdAt': '2020-04-09T10:14:02.717Z',\n",
       "  'updatedAt': '2020-04-09T10:14:02.717Z',\n",
       "  '__v': 0},\n",
       " {'length': 1554,\n",
       "  'height': 92,\n",
       "  'speed': 144,\n",
       "  'inversions': 0,\n",
       "  'gForce': None,\n",
       "  'country': 'United States',\n",
       "  'year': 2010,\n",
       "  'type': ['Roller Coaster', 'Steel', 'Sit Down', 'Extreme'],\n",
       "  '_id': '5e8ef56a60fa824d1e2db3c8',\n",
       "  'name': 'Intimidator 305',\n",
       "  'park': 'Kings Dominion',\n",
       "  'model': 'Giga Coaster',\n",
       "  'createdAt': '2020-04-09T10:14:02.717Z',\n",
       "  'updatedAt': '2020-04-09T10:14:02.717Z',\n",
       "  '__v': 0},\n",
       " {'length': 1449,\n",
       "  'height': 76,\n",
       "  'speed': 142,\n",
       "  'inversions': 1,\n",
       "  'gForce': None,\n",
       "  'country': 'Poland',\n",
       "  'year': 2018,\n",
       "  'type': ['Roller Coaster', 'Steel', 'Sit Down', 'Extreme'],\n",
       "  '_id': '5e8ef56a60fa824d1e2db3c9',\n",
       "  'name': 'Hyperion',\n",
       "  'park': 'Energylandia',\n",
       "  'model': 'Giga Coaster',\n",
       "  'createdAt': '2020-04-09T10:14:02.717Z',\n",
       "  'updatedAt': '2020-04-09T10:14:02.717Z',\n",
       "  '__v': 0},\n",
       " {'length': 1170,\n",
       "  'height': 0,\n",
       "  'speed': 85,\n",
       "  'inversions': 14,\n",
       "  'gForce': None,\n",
       "  'country': 'United Kingdom',\n",
       "  'year': 2013,\n",
       "  'type': ['Roller Coaster', 'Steel', 'Sit Down', 'Extreme'],\n",
       "  '_id': '5e8ef56a60fa824d1e2db3ca',\n",
       "  'name': 'Smiler',\n",
       "  'park': 'Alton Towers',\n",
       "  'model': 'Infinity Coaster',\n",
       "  'createdAt': '2020-04-09T10:14:02.717Z',\n",
       "  'updatedAt': '2020-04-09T10:14:02.717Z',\n",
       "  '__v': 0},\n",
       " {'length': 849,\n",
       "  'height': 29,\n",
       "  'speed': 71,\n",
       "  'inversions': 10,\n",
       "  'gForce': None,\n",
       "  'country': 'United Kingdom',\n",
       "  'year': 2002,\n",
       "  'type': ['Roller Coaster', 'Steel', 'Sit Down', 'Extreme'],\n",
       "  '_id': '5e8ef56a60fa824d1e2db3cb',\n",
       "  'name': 'Colossus',\n",
       "  'park': 'Thorpe Park',\n",
       "  'model': 'Multi Inversion Coaster',\n",
       "  'createdAt': '2020-04-09T10:14:02.717Z',\n",
       "  'updatedAt': '2020-04-09T10:14:02.717Z',\n",
       "  '__v': 0},\n",
       " {'length': 849,\n",
       "  'height': 29,\n",
       "  'speed': 80,\n",
       "  'inversions': 10,\n",
       "  'gForce': None,\n",
       "  'country': 'China',\n",
       "  'year': 2006,\n",
       "  'type': ['Roller Coaster', 'Steel', 'Sit Down', 'Extreme'],\n",
       "  '_id': '5e8ef56a60fa824d1e2db3cc',\n",
       "  'name': '10 Inversion Roller Coaster',\n",
       "  'park': 'Chimelong Paradise',\n",
       "  'model': 'Giga Coaster',\n",
       "  'createdAt': '2020-04-09T10:14:02.717Z',\n",
       "  'updatedAt': '2020-04-09T10:14:02.717Z',\n",
       "  '__v': 0},\n",
       " {'length': 875,\n",
       "  'height': 33,\n",
       "  'speed': 85,\n",
       "  'inversions': 10,\n",
       "  'gForce': None,\n",
       "  'country': 'China',\n",
       "  'year': 2013,\n",
       "  'type': ['Roller Coaster', 'Steel', 'Sit Down', 'Extreme'],\n",
       "  '_id': '5e8ef56a60fa824d1e2db3cd',\n",
       "  'name': 'Crazy Coaster',\n",
       "  'park': 'Loca Joy Holiday Theme Park',\n",
       "  'model': 'Sitting Coaster',\n",
       "  'createdAt': '2020-04-09T10:14:02.717Z',\n",
       "  'updatedAt': '2020-04-09T10:14:02.717Z',\n",
       "  '__v': 0},\n",
       " {'length': 875,\n",
       "  'height': 33,\n",
       "  'speed': 85,\n",
       "  'inversions': 10,\n",
       "  'gForce': None,\n",
       "  'country': 'Italy',\n",
       "  'year': 2014,\n",
       "  'type': ['Roller Coaster', 'Steel', 'Sit Down', 'Extreme'],\n",
       "  '_id': '5e8ef56a60fa824d1e2db3ce',\n",
       "  'name': 'Altair',\n",
       "  'park': 'Cinecittà World',\n",
       "  'model': 'Multi Inversion Coaster',\n",
       "  'createdAt': '2020-04-09T10:14:02.717Z',\n",
       "  'updatedAt': '2020-04-09T10:14:02.717Z',\n",
       "  '__v': 0},\n",
       " {'length': 874,\n",
       "  'height': 33,\n",
       "  'speed': 85,\n",
       "  'inversions': 10,\n",
       "  'gForce': None,\n",
       "  'country': 'Russia',\n",
       "  'year': 2017,\n",
       "  'type': ['Roller Coaster', 'Steel', 'Sit Down', 'Extreme'],\n",
       "  '_id': '5e8ef56a60fa824d1e2db3cf',\n",
       "  'name': 'Velikolukskiy Myasokombinat-2',\n",
       "  'park': 'Wonder Island',\n",
       "  'model': 'Multi Inversion Coaster',\n",
       "  'createdAt': '2020-04-09T10:14:02.717Z',\n",
       "  'updatedAt': '2020-04-09T10:14:02.717Z',\n",
       "  '__v': 0},\n",
       " {'length': 875,\n",
       "  'height': 33,\n",
       "  'speed': 85,\n",
       "  'inversions': 10,\n",
       "  'gForce': None,\n",
       "  'country': 'Turkey',\n",
       "  'year': 2020,\n",
       "  'type': ['Roller Coaster', 'Steel', 'Sit Down', 'Extreme'],\n",
       "  '_id': '5e8ef56a60fa824d1e2db3d0',\n",
       "  'name': 'Lightspeed',\n",
       "  'park': 'Wonderland Eurasia',\n",
       "  'model': 'Multi Inversion Coaster',\n",
       "  'createdAt': '2020-04-09T10:14:02.717Z',\n",
       "  'updatedAt': '2020-04-09T10:14:02.717Z',\n",
       "  '__v': 0},\n",
       " {'length': 1269,\n",
       "  'height': 45,\n",
       "  'speed': 104,\n",
       "  'inversions': 8,\n",
       "  'gForce': None,\n",
       "  'country': 'Spain',\n",
       "  'year': 1995,\n",
       "  'type': ['Roller Coaster', 'Steel', 'Sit Down', 'Extreme'],\n",
       "  '_id': '5e8ef56a60fa824d1e2db3d1',\n",
       "  'name': 'Dragon Khan',\n",
       "  'park': 'PortAventura Park',\n",
       "  'model': 'Sitting Coaster',\n",
       "  'createdAt': '2020-04-09T10:14:02.718Z',\n",
       "  'updatedAt': '2020-04-09T10:14:02.718Z',\n",
       "  '__v': 0},\n",
       " {'length': None,\n",
       "  'height': 0,\n",
       "  'speed': 88,\n",
       "  'inversions': 8,\n",
       "  'gForce': None,\n",
       "  'country': 'Guatemala',\n",
       "  'year': 2002,\n",
       "  'type': ['Roller Coaster', 'Steel', 'Sit Down', 'Extreme'],\n",
       "  '_id': '5e8ef56a60fa824d1e2db3d2',\n",
       "  'name': 'Avalancha',\n",
       "  'park': 'Xetulul',\n",
       "  'model': 'Multi Inversion Coaster',\n",
       "  'createdAt': '2020-04-09T10:14:02.718Z',\n",
       "  'updatedAt': '2020-04-09T10:14:02.718Z',\n",
       "  '__v': 0},\n",
       " {'length': 2243,\n",
       "  'height': 33,\n",
       "  'speed': 104,\n",
       "  'inversions': 0,\n",
       "  'gForce': None,\n",
       "  'country': 'United States',\n",
       "  'year': 1979,\n",
       "  'type': ['Roller Coaster', 'Wood', 'Sit Down', 'Extreme'],\n",
       "  '_id': '5e8ef56a60fa824d1e2db3d4',\n",
       "  'name': 'Beast',\n",
       "  'park': 'Kings Island',\n",
       "  'model': 'Sitting Coaster',\n",
       "  'createdAt': '2020-04-09T10:14:02.718Z',\n",
       "  'updatedAt': '2020-04-09T10:14:02.718Z',\n",
       "  '__v': 0},\n",
       " {'length': 2268,\n",
       "  'height': 32,\n",
       "  'speed': 80,\n",
       "  'inversions': 0,\n",
       "  'gForce': None,\n",
       "  'country': 'United Kingdom',\n",
       "  'year': 1991,\n",
       "  'type': ['Roller Coaster', 'Steel', 'Sit Down', 'Extreme'],\n",
       "  '_id': '5e8ef56a60fa824d1e2db3d3',\n",
       "  'name': 'Ultimate',\n",
       "  'park': 'Lightwater Valley',\n",
       "  'model': 'Sitting Coaster',\n",
       "  'createdAt': '2020-04-09T10:14:02.718Z',\n",
       "  'updatedAt': '2020-04-09T10:14:02.718Z',\n",
       "  '__v': 0},\n",
       " {'length': 2044,\n",
       "  'height': 79,\n",
       "  'speed': 130,\n",
       "  'inversions': 0,\n",
       "  'gForce': 3.5,\n",
       "  'country': 'Japan',\n",
       "  'year': 1996,\n",
       "  'type': ['Roller Coaster', 'Steel', 'Sit Down', 'Extreme'],\n",
       "  '_id': '5e8ef56a60fa824d1e2db3d5',\n",
       "  'name': 'Fujiyama',\n",
       "  'park': 'Fuji-Q Highland',\n",
       "  'model': 'Sitting Coaster',\n",
       "  'createdAt': '2020-04-09T10:14:02.718Z',\n",
       "  'updatedAt': '2020-04-09T10:14:02.718Z',\n",
       "  '__v': 0},\n",
       " {'length': 1963,\n",
       "  'height': 48,\n",
       "  'speed': 107,\n",
       "  'inversions': 0,\n",
       "  'gForce': None,\n",
       "  'country': 'United States',\n",
       "  'year': 2006,\n",
       "  'type': ['Roller Coaster', 'Wood', 'Sit Down', 'Extreme'],\n",
       "  '_id': '5e8ef56a60fa824d1e2db3d6',\n",
       "  'name': 'Voyage',\n",
       "  'park': 'Holiday World',\n",
       "  'model': 'Sitting Coaster',\n",
       "  'createdAt': '2020-04-09T10:14:02.718Z',\n",
       "  'updatedAt': '2020-04-09T10:14:02.718Z',\n",
       "  '__v': 0},\n",
       " {'length': 1371,\n",
       "  'height': 71,\n",
       "  'speed': 136,\n",
       "  'inversions': 0,\n",
       "  'gForce': None,\n",
       "  'country': 'United States',\n",
       "  'year': 2020,\n",
       "  'type': ['Roller Coaster', 'Steel', 'Sit Down', 'Extreme'],\n",
       "  '_id': '5e8ef56a60fa824d1e2db3d7',\n",
       "  'name': 'Goliath',\n",
       "  'park': 'Six Flags Magic Mountain',\n",
       "  'model': 'Mega Coaster',\n",
       "  'createdAt': '2020-04-09T10:14:02.718Z',\n",
       "  'updatedAt': '2020-04-09T10:14:02.718Z',\n",
       "  '__v': 0},\n",
       " {'length': 1619,\n",
       "  'height': 74,\n",
       "  'speed': 136,\n",
       "  'inversions': 0,\n",
       "  'gForce': None,\n",
       "  'country': 'United States',\n",
       "  'year': 2001,\n",
       "  'type': ['Roller Coaster', 'Steel', 'Sit Down', 'Extreme'],\n",
       "  '_id': '5e8ef56a60fa824d1e2db3d8',\n",
       "  'name': 'Titan',\n",
       "  'park': 'Six Flags Over Texas',\n",
       "  'model': 'Mega Coaster',\n",
       "  'createdAt': '2020-04-09T10:14:02.718Z',\n",
       "  'updatedAt': '2020-04-09T10:14:02.718Z',\n",
       "  '__v': 0},\n",
       " {'length': 1564,\n",
       "  'height': 75,\n",
       "  'speed': 134,\n",
       "  'inversions': 0,\n",
       "  'gForce': 3.8,\n",
       "  'country': 'Spain',\n",
       "  'year': 2012,\n",
       "  'type': ['Roller Coaster', 'Steel', 'Sit Down', 'Extreme'],\n",
       "  '_id': '5e8ef56a60fa824d1e2db3d9',\n",
       "  'name': 'Shambhala',\n",
       "  'park': 'PortAventura Park',\n",
       "  'model': 'Hyper Coaster',\n",
       "  'createdAt': '2020-04-09T10:14:02.718Z',\n",
       "  'updatedAt': '2020-04-09T10:14:02.718Z',\n",
       "  '__v': 0},\n",
       " {'length': 629,\n",
       "  'height': 25,\n",
       "  'speed': 68,\n",
       "  'inversions': 0,\n",
       "  'gForce': None,\n",
       "  'country': 'Spain',\n",
       "  'year': 2005,\n",
       "  'type': ['Roller Coaster', 'Steel', 'Sit Down', 'Thrill'],\n",
       "  '_id': '5e8ef56a60fa824d1e2db3da',\n",
       "  'name': 'Tarántula',\n",
       "  'park': 'Parque de Atracciones de Madrid',\n",
       "  'model': 'Giga Coaster',\n",
       "  'createdAt': '2020-04-09T10:14:02.718Z',\n",
       "  'updatedAt': '2020-04-09T10:14:02.718Z',\n",
       "  '__v': 0},\n",
       " {'length': 450,\n",
       "  'height': 46,\n",
       "  'speed': 104,\n",
       "  'inversions': 2,\n",
       "  'gForce': 4,\n",
       "  'country': 'Spain',\n",
       "  'year': 2006,\n",
       "  'type': ['Roller Coaster', 'Steel', 'Sit Down', 'Extreme'],\n",
       "  '_id': '5e8ef56a60fa824d1e2db3db',\n",
       "  'name': 'Abismo',\n",
       "  'park': 'Parque de Atracciones de Madrid',\n",
       "  'model': 'Giga Coaster',\n",
       "  'createdAt': '2020-04-09T10:14:02.718Z',\n",
       "  'updatedAt': '2020-04-09T10:14:02.718Z',\n",
       "  '__v': 0},\n",
       " {'length': 800,\n",
       "  'height': 29,\n",
       "  'speed': 80,\n",
       "  'inversions': 3,\n",
       "  'gForce': 4,\n",
       "  'country': 'Spain',\n",
       "  'year': 1999,\n",
       "  'type': ['Roller Coaster', 'Steel', 'Inverted', 'Extreme'],\n",
       "  '_id': '5e8ef56a60fa824d1e2db3dc',\n",
       "  'name': 'Tornado',\n",
       "  'park': 'Parque de Atracciones de Madrid',\n",
       "  'model': 'Suspended Looping Coaster',\n",
       "  'createdAt': '2020-04-09T10:14:02.718Z',\n",
       "  'updatedAt': '2020-04-09T10:14:02.718Z',\n",
       "  '__v': 0},\n",
       " {'length': 765,\n",
       "  'height': 33,\n",
       "  'speed': 80,\n",
       "  'inversions': 5,\n",
       "  'gForce': None,\n",
       "  'country': 'Spain',\n",
       "  'year': 2012,\n",
       "  'type': ['Roller Coaster', 'Steel', 'Sit Down', 'Extreme'],\n",
       "  '_id': '5e8ef56a60fa824d1e2db3dd',\n",
       "  'name': 'Jaguar',\n",
       "  'park': 'Isla Mágica',\n",
       "  'model': 'Hyper Coaster',\n",
       "  'createdAt': '2020-04-09T10:14:02.718Z',\n",
       "  'updatedAt': '2020-04-09T10:14:02.718Z',\n",
       "  '__v': 0},\n",
       " {'length': 369,\n",
       "  'height': 13,\n",
       "  'speed': 45,\n",
       "  'inversions': 0,\n",
       "  'gForce': None,\n",
       "  'country': 'Spain',\n",
       "  'year': 2009,\n",
       "  'type': ['Roller Coaster', 'Steel', 'Sit Down', 'Thrill'],\n",
       "  '_id': '5e8ef56a60fa824d1e2db3de',\n",
       "  'name': 'Vértigo',\n",
       "  'park': 'Parque de Atracciones de Madrid',\n",
       "  'model': 'Wild Mouse Coaster',\n",
       "  'createdAt': '2020-04-09T10:14:02.718Z',\n",
       "  'updatedAt': '2020-04-09T10:14:02.718Z',\n",
       "  '__v': 0},\n",
       " {'length': 823,\n",
       "  'height': 32,\n",
       "  'speed': 80,\n",
       "  'inversions': 5,\n",
       "  'gForce': None,\n",
       "  'country': 'Spain',\n",
       "  'year': 2002,\n",
       "  'type': ['Roller Coaster', 'Steel', 'Inverted', 'Extreme'],\n",
       "  '_id': '5e8ef56a60fa824d1e2db3df',\n",
       "  'name': 'Batman: Arkham Asylum',\n",
       "  'park': 'Parque Warner Madrid',\n",
       "  'model': 'Inverted Coaster',\n",
       "  'createdAt': '2020-04-09T10:14:02.718Z',\n",
       "  'updatedAt': '2020-04-09T10:14:02.718Z',\n",
       "  '__v': 0},\n",
       " {'length': 1099,\n",
       "  'height': 50,\n",
       "  'speed': 99,\n",
       "  'inversions': 7,\n",
       "  'gForce': None,\n",
       "  'country': 'Spain',\n",
       "  'year': 2002,\n",
       "  'type': ['Roller Coaster', 'Steel', 'Sit Down', 'Extreme'],\n",
       "  '_id': '5e8ef56a60fa824d1e2db3e0',\n",
       "  'name': 'Superman / la Atracción de Acero',\n",
       "  'park': 'Parque Warner Madrid',\n",
       "  'model': 'Floorless Coaster',\n",
       "  'createdAt': '2020-04-09T10:14:02.718Z',\n",
       "  'updatedAt': '2020-04-09T10:14:02.718Z',\n",
       "  '__v': 0},\n",
       " {'length': 981,\n",
       "  'height': 60,\n",
       "  'speed': 112,\n",
       "  'inversions': 1,\n",
       "  'gForce': 3.2,\n",
       "  'country': 'China',\n",
       "  'year': 2008,\n",
       "  'type': ['Roller Coaster', 'Steel', 'Sit Down', 'Extreme'],\n",
       "  '_id': '61adcc1d7d5e6cbe6282096d',\n",
       "  'name': 'Dive Coaster',\n",
       "  'park': 'Chimelong Paradise',\n",
       "  'model': 'Sitting Coaster'},\n",
       " {'length': 850,\n",
       "  'height': 30,\n",
       "  'speed': 80,\n",
       "  'inversions': 10,\n",
       "  'gForce': 3,\n",
       "  'country': 'China',\n",
       "  'year': 2006,\n",
       "  'type': ['Roller Coaster', 'Steel', 'Sit Down', 'Extreme'],\n",
       "  '_id': '61adcc1d7d5e6cbe6282096c',\n",
       "  'name': 'Inversion Coaster',\n",
       "  'park': 'Chimelong Paradise',\n",
       "  'model': 'Sitting Coaster'},\n",
       " {'length': 606,\n",
       "  'height': 42,\n",
       "  'speed': 80,\n",
       "  'inversions': 0,\n",
       "  'gForce': 2.1,\n",
       "  'country': 'China',\n",
       "  'year': 2010,\n",
       "  'type': ['Roller Coaster', 'Steel', 'Sit Down', 'Extreme'],\n",
       "  '_id': '61adcc1d7d5e6cbe6282096f',\n",
       "  'name': 'Motorbike Launch Coaster',\n",
       "  'park': 'Chimelong Paradise',\n",
       "  'model': 'Accelerator Coaster'},\n",
       " {'length': 345,\n",
       "  'height': 30,\n",
       "  'speed': 56.5,\n",
       "  'inversions': 0,\n",
       "  'gForce': 1.2,\n",
       "  'country': 'China',\n",
       "  'year': 2018,\n",
       "  'type': ['Roller Coaster', 'Steel', 'Sit Down', 'Extreme'],\n",
       "  '_id': '61adcc1d7d5e6cbe62820971',\n",
       "  'name': 'Young Star Coaster',\n",
       "  'park': 'Chimelong Paradise',\n",
       "  'model': 'Sitting Coaster'},\n",
       " {'length': 376,\n",
       "  'height': 126,\n",
       "  'speed': 160,\n",
       "  'inversions': 0,\n",
       "  'gForce': 4.5,\n",
       "  'country': 'United States',\n",
       "  'year': 1997,\n",
       "  'type': ['Roller Coaster', 'Steel', 'Sit Down', 'Extreme'],\n",
       "  '_id': '61adcc1d7d5e6cbe62820974',\n",
       "  'name': 'Superman: Escape Krypton',\n",
       "  'park': 'Six Flags Magic Mountain',\n",
       "  'model': 'Giga Coaster'},\n",
       " {'length': 1100,\n",
       "  'height': 52,\n",
       "  'speed': 122,\n",
       "  'inversions': 2,\n",
       "  'gForce': 4,\n",
       "  'country': 'United States',\n",
       "  'year': 2002,\n",
       "  'type': ['Roller Coaster', 'Steel', 'Sit Down', 'Extreme'],\n",
       "  '_id': '61adcc1d7d5e6cbe62820975',\n",
       "  'name': 'X2',\n",
       "  'park': 'Six Flags Magic Mountain',\n",
       "  'model': 'Giga Coaster'},\n",
       " {'length': 1097,\n",
       "  'height': 51,\n",
       "  'speed': 99,\n",
       "  'inversions': 4,\n",
       "  'gForce': 3.8,\n",
       "  'country': 'United States',\n",
       "  'year': 2006,\n",
       "  'type': ['Roller Coaster', 'Steel', 'Sit Down', 'Extreme'],\n",
       "  '_id': '61adcc1d7d5e6cbe62820976',\n",
       "  'name': 'Tatsu',\n",
       "  'park': 'Six Flags Magic Mountain',\n",
       "  'model': 'Giga Coaster'},\n",
       " {'length': 205,\n",
       "  'height': 20,\n",
       "  'speed': 58,\n",
       "  'inversions': 0,\n",
       "  'gForce': 3,\n",
       "  'country': 'United Kingdom',\n",
       "  'year': 2008,\n",
       "  'type': ['Roller Coaster', 'Steel', 'Sit Down', 'Extreme'],\n",
       "  '_id': '61adcc1d7d5e6cbe62820979',\n",
       "  'name': 'Velociraptor',\n",
       "  'park': 'Paultons Park',\n",
       "  'model': 'Accelerator Coaster'},\n",
       " {'length': 1214,\n",
       "  'height': 45,\n",
       "  'speed': 101,\n",
       "  'inversions': 7,\n",
       "  'gForce': 4,\n",
       "  'country': 'United States',\n",
       "  'year': 2003,\n",
       "  'type': ['Roller Coaster', 'Steel', 'Sit Down', 'Extreme'],\n",
       "  '_id': '61adcc1d7d5e6cbe62820973',\n",
       "  'name': 'Scream',\n",
       "  'park': 'Six Flags Magic Mountain',\n",
       "  'model': 'Sitting Coaster'},\n",
       " {'length': 193,\n",
       "  'height': 17,\n",
       "  'speed': 72,\n",
       "  'inversions': 1,\n",
       "  'gForce': 4,\n",
       "  'country': 'United Kingdom',\n",
       "  'year': 2010,\n",
       "  'type': ['Roller Coaster', 'Steel', 'Sit Down', 'Extreme'],\n",
       "  '_id': '61adcc1d7d5e6cbe62820978',\n",
       "  'name': 'Revolution',\n",
       "  'park': 'Blackpool Pleasure Beach',\n",
       "  'model': 'Accelerator Coaster'},\n",
       " {'length': 70,\n",
       "  'height': 30,\n",
       "  'speed': 70,\n",
       "  'inversions': 0,\n",
       "  'gForce': 4.5,\n",
       "  'country': 'China',\n",
       "  'year': None,\n",
       "  'type': ['Roller Coaster', 'Steel', 'Sit Down', 'Extreme'],\n",
       "  '_id': '61adcc1d7d5e6cbe6282096e',\n",
       "  'name': 'Half Pipe',\n",
       "  'park': 'Chimelong Paradise',\n",
       "  'model': 'Accelerator Coaster'},\n",
       " {'length': 263,\n",
       "  'height': 45,\n",
       "  'speed': 99.8,\n",
       "  'inversions': 1,\n",
       "  'gForce': 3.1,\n",
       "  'country': 'China',\n",
       "  'year': 2017,\n",
       "  'type': ['Roller Coaster', 'Steel', 'Sit Down', 'Extreme'],\n",
       "  '_id': '61adcc1d7d5e6cbe62820970',\n",
       "  'name': 'Sky Rocket',\n",
       "  'park': 'Chimelong Paradise',\n",
       "  'model': 'Hyper Coaster'},\n",
       " {'length': 876,\n",
       "  'height': 29,\n",
       "  'speed': 80,\n",
       "  'inversions': 0,\n",
       "  'gForce': 3.6,\n",
       "  'country': 'United States',\n",
       "  'year': 2009,\n",
       "  'type': ['Roller Coaster', 'Steel', 'Sit Down', 'Extreme'],\n",
       "  '_id': '61adcc1d7d5e6cbe62820972',\n",
       "  'name': 'Apocalypse the Ride',\n",
       "  'park': 'Six Flags Magic Mountain',\n",
       "  'model': 'Hyper Coaster'},\n",
       " {'length': 196,\n",
       "  'height': 20,\n",
       "  'speed': 60,\n",
       "  'inversions': 0,\n",
       "  'gForce': 2.3,\n",
       "  'country': 'United Kingdom',\n",
       "  'year': 2011,\n",
       "  'type': ['Roller Coaster', 'Steel', 'Sit Down', 'Extreme'],\n",
       "  '_id': '61adcc1d7d5e6cbe62820977',\n",
       "  'name': 'Accelerator',\n",
       "  'park': 'Drayton Manor',\n",
       "  'model': 'Accelerator Coaster'},\n",
       " {'length': 285,\n",
       "  'height': 35,\n",
       "  'speed': 75,\n",
       "  'inversions': 3,\n",
       "  'gForce': 2.3,\n",
       "  'country': 'United Kingdom',\n",
       "  'year': 2007,\n",
       "  'type': ['Roller Coaster', 'Steel', 'Sit Down', 'Extreme'],\n",
       "  '_id': '61adcc1d7d5e6cbe6282097a',\n",
       "  'name': 'Wipeout',\n",
       "  'park': 'Pleasurewood Hills',\n",
       "  'model': 'Accelerator Coaster'}]"
      ]
     },
     "execution_count": 86,
     "metadata": {},
     "output_type": "execute_result"
    }
   ],
   "source": [
    "#results retorna uma lista onde cada termo contém um dicionário representando as features de uma montanha-russa\n",
    "results = response.json()\n",
    "results"
   ]
  },
  {
   "cell_type": "markdown",
   "metadata": {},
   "source": [
    " This dictionary has the rollercoaster features. For example, the rollercoaster number 0, has the following features:"
   ]
  },
  {
   "cell_type": "code",
   "execution_count": 87,
   "metadata": {
    "ExecuteTime": {
     "end_time": "2022-02-18T01:12:20.432321Z",
     "start_time": "2022-02-18T01:12:20.422324Z"
    }
   },
   "outputs": [
    {
     "data": {
      "text/plain": [
       "dict_keys(['length', 'height', 'speed', 'inversions', 'gForce', 'country', 'year', 'type', '_id', 'name', 'park', 'model', 'createdAt', 'updatedAt', '__v'])"
      ]
     },
     "execution_count": 87,
     "metadata": {},
     "output_type": "execute_result"
    }
   ],
   "source": [
    "results[0].keys()"
   ]
  },
  {
   "cell_type": "markdown",
   "metadata": {},
   "source": [
    "And the following values for those features:"
   ]
  },
  {
   "cell_type": "code",
   "execution_count": 88,
   "metadata": {
    "ExecuteTime": {
     "end_time": "2022-02-18T01:12:21.246382Z",
     "start_time": "2022-02-18T01:12:21.231387Z"
    }
   },
   "outputs": [
    {
     "data": {
      "text/plain": [
       "dict_values([950, 138, 206, 0, None, 'United States', 2005, ['Roller Coaster', 'Steel', 'Sit Down', 'Extreme'], '5e8ef56a60fa824d1e2db3bf', 'Kingda Ka', 'Six Flags Great Adventure', 'Accelerator Coaster', '2020-04-09T10:14:02.717Z', '2020-04-09T10:14:02.717Z', 0])"
      ]
     },
     "execution_count": 88,
     "metadata": {},
     "output_type": "execute_result"
    }
   ],
   "source": [
    "results[0].values()"
   ]
  },
  {
   "cell_type": "markdown",
   "metadata": {},
   "source": [
    "Let's create a list to feed our dataframe, iterating over the API:"
   ]
  },
  {
   "cell_type": "code",
   "execution_count": 89,
   "metadata": {
    "ExecuteTime": {
     "end_time": "2022-02-18T01:12:21.920399Z",
     "start_time": "2022-02-18T01:12:21.903387Z"
    }
   },
   "outputs": [],
   "source": [
    "list_values = []\n",
    "\n",
    "for i in range(1,len(results)):\n",
    "    list_values.append(list(results[i].values()))"
   ]
  },
  {
   "cell_type": "markdown",
   "metadata": {},
   "source": [
    "Creating the dataframe with the keys as column headers and the list as our data:"
   ]
  },
  {
   "cell_type": "code",
   "execution_count": 90,
   "metadata": {
    "ExecuteTime": {
     "end_time": "2022-02-18T01:12:23.456291Z",
     "start_time": "2022-02-18T01:12:23.432290Z"
    }
   },
   "outputs": [
    {
     "data": {
      "text/html": [
       "<div>\n",
       "<style scoped>\n",
       "    .dataframe tbody tr th:only-of-type {\n",
       "        vertical-align: middle;\n",
       "    }\n",
       "\n",
       "    .dataframe tbody tr th {\n",
       "        vertical-align: top;\n",
       "    }\n",
       "\n",
       "    .dataframe thead th {\n",
       "        text-align: right;\n",
       "    }\n",
       "</style>\n",
       "<table border=\"1\" class=\"dataframe\">\n",
       "  <thead>\n",
       "    <tr style=\"text-align: right;\">\n",
       "      <th></th>\n",
       "      <th>length</th>\n",
       "      <th>height</th>\n",
       "      <th>speed</th>\n",
       "      <th>inversions</th>\n",
       "      <th>gForce</th>\n",
       "      <th>country</th>\n",
       "      <th>year</th>\n",
       "      <th>type</th>\n",
       "      <th>_id</th>\n",
       "      <th>name</th>\n",
       "      <th>park</th>\n",
       "      <th>model</th>\n",
       "      <th>createdAt</th>\n",
       "      <th>updatedAt</th>\n",
       "      <th>__v</th>\n",
       "    </tr>\n",
       "  </thead>\n",
       "  <tbody>\n",
       "    <tr>\n",
       "      <th>0</th>\n",
       "      <td>853.0</td>\n",
       "      <td>128</td>\n",
       "      <td>193.0</td>\n",
       "      <td>0</td>\n",
       "      <td>NaN</td>\n",
       "      <td>United States</td>\n",
       "      <td>2003.0</td>\n",
       "      <td>[Roller Coaster, Steel, Sit Down, Extreme]</td>\n",
       "      <td>5e8ef56a60fa824d1e2db3c0</td>\n",
       "      <td>Top Thrill Dragster</td>\n",
       "      <td>Cedar Point</td>\n",
       "      <td>Accelerator Coaster</td>\n",
       "      <td>2020-04-09T10:14:02.717Z</td>\n",
       "      <td>2020-04-09T10:14:02.717Z</td>\n",
       "      <td>0.0</td>\n",
       "    </tr>\n",
       "    <tr>\n",
       "      <th>1</th>\n",
       "      <td>2000.0</td>\n",
       "      <td>51</td>\n",
       "      <td>240.0</td>\n",
       "      <td>0</td>\n",
       "      <td>4.8</td>\n",
       "      <td>United Arab Emirates</td>\n",
       "      <td>2010.0</td>\n",
       "      <td>[Roller Coaster, Steel, Sit Down, Extreme]</td>\n",
       "      <td>5e8ef56a60fa824d1e2db3be</td>\n",
       "      <td>Formula Rossa-</td>\n",
       "      <td>Ferrari World Abu Dhabi</td>\n",
       "      <td>Accelerator Coaster</td>\n",
       "      <td>2020-04-09T10:14:02.716Z</td>\n",
       "      <td>2020-04-09T10:14:02.716Z</td>\n",
       "      <td>0.0</td>\n",
       "    </tr>\n",
       "    <tr>\n",
       "      <th>2</th>\n",
       "      <td>1243.0</td>\n",
       "      <td>49</td>\n",
       "      <td>179.0</td>\n",
       "      <td>1</td>\n",
       "      <td>NaN</td>\n",
       "      <td>Japan</td>\n",
       "      <td>2001.0</td>\n",
       "      <td>[Roller Coaster, Steel, Sit Down, Extreme]</td>\n",
       "      <td>5e8ef56a60fa824d1e2db3c1</td>\n",
       "      <td>Do-Dodonpa</td>\n",
       "      <td>Fuji-Q Highland</td>\n",
       "      <td>Thrust Air Coaster</td>\n",
       "      <td>2020-04-09T10:14:02.717Z</td>\n",
       "      <td>2020-04-09T10:14:02.717Z</td>\n",
       "      <td>0.0</td>\n",
       "    </tr>\n",
       "    <tr>\n",
       "      <th>3</th>\n",
       "      <td>880.0</td>\n",
       "      <td>111</td>\n",
       "      <td>179.0</td>\n",
       "      <td>0</td>\n",
       "      <td>NaN</td>\n",
       "      <td>Spain</td>\n",
       "      <td>2017.0</td>\n",
       "      <td>[Roller Coaster, Steel, Sit Down, Extreme]</td>\n",
       "      <td>5e8ef56a60fa824d1e2db3c2</td>\n",
       "      <td>Red Force</td>\n",
       "      <td>Ferrari Land</td>\n",
       "      <td>Accelerator Coaster</td>\n",
       "      <td>2020-04-09T10:14:02.717Z</td>\n",
       "      <td>2020-04-09T10:14:02.717Z</td>\n",
       "      <td>0.0</td>\n",
       "    </tr>\n",
       "    <tr>\n",
       "      <th>4</th>\n",
       "      <td>2478.0</td>\n",
       "      <td>97</td>\n",
       "      <td>152.0</td>\n",
       "      <td>0</td>\n",
       "      <td>NaN</td>\n",
       "      <td>Japan</td>\n",
       "      <td>2000.0</td>\n",
       "      <td>[Roller Coaster, Steel, Sit Down, Extreme]</td>\n",
       "      <td>5e8ef56a60fa824d1e2db3c3</td>\n",
       "      <td>Steel Dragon 2000</td>\n",
       "      <td>Nagashima Spa Land</td>\n",
       "      <td>Hyper Coaster</td>\n",
       "      <td>2020-04-09T10:14:02.717Z</td>\n",
       "      <td>2020-04-09T10:14:02.717Z</td>\n",
       "      <td>0.0</td>\n",
       "    </tr>\n",
       "  </tbody>\n",
       "</table>\n",
       "</div>"
      ],
      "text/plain": [
       "   length  height  speed  inversions  gForce               country    year  \\\n",
       "0   853.0     128  193.0           0     NaN         United States  2003.0   \n",
       "1  2000.0      51  240.0           0     4.8  United Arab Emirates  2010.0   \n",
       "2  1243.0      49  179.0           1     NaN                 Japan  2001.0   \n",
       "3   880.0     111  179.0           0     NaN                 Spain  2017.0   \n",
       "4  2478.0      97  152.0           0     NaN                 Japan  2000.0   \n",
       "\n",
       "                                         type                       _id  \\\n",
       "0  [Roller Coaster, Steel, Sit Down, Extreme]  5e8ef56a60fa824d1e2db3c0   \n",
       "1  [Roller Coaster, Steel, Sit Down, Extreme]  5e8ef56a60fa824d1e2db3be   \n",
       "2  [Roller Coaster, Steel, Sit Down, Extreme]  5e8ef56a60fa824d1e2db3c1   \n",
       "3  [Roller Coaster, Steel, Sit Down, Extreme]  5e8ef56a60fa824d1e2db3c2   \n",
       "4  [Roller Coaster, Steel, Sit Down, Extreme]  5e8ef56a60fa824d1e2db3c3   \n",
       "\n",
       "                  name                     park                model  \\\n",
       "0  Top Thrill Dragster              Cedar Point  Accelerator Coaster   \n",
       "1       Formula Rossa-  Ferrari World Abu Dhabi  Accelerator Coaster   \n",
       "2           Do-Dodonpa          Fuji-Q Highland   Thrust Air Coaster   \n",
       "3            Red Force             Ferrari Land  Accelerator Coaster   \n",
       "4    Steel Dragon 2000       Nagashima Spa Land        Hyper Coaster   \n",
       "\n",
       "                  createdAt                 updatedAt  __v  \n",
       "0  2020-04-09T10:14:02.717Z  2020-04-09T10:14:02.717Z  0.0  \n",
       "1  2020-04-09T10:14:02.716Z  2020-04-09T10:14:02.716Z  0.0  \n",
       "2  2020-04-09T10:14:02.717Z  2020-04-09T10:14:02.717Z  0.0  \n",
       "3  2020-04-09T10:14:02.717Z  2020-04-09T10:14:02.717Z  0.0  \n",
       "4  2020-04-09T10:14:02.717Z  2020-04-09T10:14:02.717Z  0.0  "
      ]
     },
     "execution_count": 90,
     "metadata": {},
     "output_type": "execute_result"
    }
   ],
   "source": [
    "roller_api = pd.DataFrame(columns = list(results[0].keys()), data = list_values)\n",
    "roller_api.head()"
   ]
  },
  {
   "cell_type": "markdown",
   "metadata": {},
   "source": [
    "# Data cleaning\n",
    "Let's check the health of our data before venturing ourselves into wild statistics:"
   ]
  },
  {
   "cell_type": "markdown",
   "metadata": {},
   "source": [
    "## Rollercoasters database API"
   ]
  },
  {
   "cell_type": "code",
   "execution_count": 91,
   "metadata": {
    "ExecuteTime": {
     "end_time": "2022-02-18T01:12:25.747891Z",
     "start_time": "2022-02-18T01:12:25.734893Z"
    }
   },
   "outputs": [
    {
     "name": "stdout",
     "output_type": "stream",
     "text": [
      "<class 'pandas.core.frame.DataFrame'>\n",
      "RangeIndex: 49 entries, 0 to 48\n",
      "Data columns (total 15 columns):\n",
      " #   Column      Non-Null Count  Dtype  \n",
      "---  ------      --------------  -----  \n",
      " 0   length      48 non-null     float64\n",
      " 1   height      49 non-null     int64  \n",
      " 2   speed       49 non-null     float64\n",
      " 3   inversions  49 non-null     int64  \n",
      " 4   gForce      20 non-null     float64\n",
      " 5   country     49 non-null     object \n",
      " 6   year        48 non-null     float64\n",
      " 7   type        49 non-null     object \n",
      " 8   _id         49 non-null     object \n",
      " 9   name        49 non-null     object \n",
      " 10  park        49 non-null     object \n",
      " 11  model       49 non-null     object \n",
      " 12  createdAt   34 non-null     object \n",
      " 13  updatedAt   34 non-null     object \n",
      " 14  __v         34 non-null     float64\n",
      "dtypes: float64(5), int64(2), object(8)\n",
      "memory usage: 5.9+ KB\n"
     ]
    }
   ],
   "source": [
    "roller_api.info()"
   ]
  },
  {
   "cell_type": "markdown",
   "metadata": {},
   "source": [
    "Year: shouldn't be float, instead it should be int64.\n",
    "\n",
    "Type: it's a list, we should unpack it into different columns.\n",
    "\n",
    "CreatedAt, UpdatedAt and v are not useful columns."
   ]
  },
  {
   "cell_type": "markdown",
   "metadata": {},
   "source": [
    "### Nested data inside column 'type'"
   ]
  },
  {
   "cell_type": "code",
   "execution_count": 92,
   "metadata": {
    "ExecuteTime": {
     "end_time": "2022-02-18T01:28:17.507501Z",
     "start_time": "2022-02-18T01:28:17.489500Z"
    }
   },
   "outputs": [
    {
     "data": {
      "text/plain": [
       "0    [Roller Coaster, Steel, Sit Down, Extreme]\n",
       "1    [Roller Coaster, Steel, Sit Down, Extreme]\n",
       "2    [Roller Coaster, Steel, Sit Down, Extreme]\n",
       "3    [Roller Coaster, Steel, Sit Down, Extreme]\n",
       "4    [Roller Coaster, Steel, Sit Down, Extreme]\n",
       "5    [Roller Coaster, Steel, Sit Down, Extreme]\n",
       "6    [Roller Coaster, Steel, Sit Down, Extreme]\n",
       "7    [Roller Coaster, Steel, Sit Down, Extreme]\n",
       "8    [Roller Coaster, Steel, Sit Down, Extreme]\n",
       "9    [Roller Coaster, Steel, Sit Down, Extreme]\n",
       "Name: type, dtype: object"
      ]
     },
     "execution_count": 92,
     "metadata": {},
     "output_type": "execute_result"
    }
   ],
   "source": [
    "roller_api['type'][0:10]"
   ]
  },
  {
   "cell_type": "code",
   "execution_count": null,
   "metadata": {},
   "outputs": [],
   "source": [
    "roller_api['type']"
   ]
  },
  {
   "cell_type": "code",
   "execution_count": 75,
   "metadata": {
    "ExecuteTime": {
     "end_time": "2022-02-18T00:52:23.177450Z",
     "start_time": "2022-02-18T00:52:23.159450Z"
    }
   },
   "outputs": [
    {
     "ename": "ValueError",
     "evalue": "Columns must be same length as key",
     "output_type": "error",
     "traceback": [
      "\u001b[1;31m---------------------------------------------------------------------------\u001b[0m",
      "\u001b[1;31mValueError\u001b[0m                                Traceback (most recent call last)",
      "\u001b[1;32m<ipython-input-75-7b6e7840d7b8>\u001b[0m in \u001b[0;36m<module>\u001b[1;34m\u001b[0m\n\u001b[1;32m----> 1\u001b[1;33m \u001b[0mroller_api\u001b[0m\u001b[1;33m[\u001b[0m\u001b[1;33m[\u001b[0m\u001b[1;34m'Struc'\u001b[0m\u001b[1;33m,\u001b[0m \u001b[1;34m'Material'\u001b[0m\u001b[1;33m,\u001b[0m \u001b[1;34m'Seat'\u001b[0m\u001b[1;33m,\u001b[0m \u001b[1;34m'Intensity'\u001b[0m\u001b[1;33m]\u001b[0m\u001b[1;33m]\u001b[0m \u001b[1;33m=\u001b[0m \u001b[0mroller_api\u001b[0m\u001b[1;33m[\u001b[0m\u001b[1;34m'type'\u001b[0m\u001b[1;33m]\u001b[0m\u001b[1;33m.\u001b[0m\u001b[0mstr\u001b[0m\u001b[1;33m.\u001b[0m\u001b[0msplit\u001b[0m\u001b[1;33m(\u001b[0m\u001b[1;34m', '\u001b[0m\u001b[1;33m,\u001b[0m \u001b[0mexpand\u001b[0m\u001b[1;33m=\u001b[0m\u001b[1;32mTrue\u001b[0m\u001b[1;33m)\u001b[0m\u001b[1;33m\u001b[0m\u001b[1;33m\u001b[0m\u001b[0m\n\u001b[0m",
      "\u001b[1;32m~\\AppData\\Roaming\\Python\\Python39\\site-packages\\pandas\\core\\frame.py\u001b[0m in \u001b[0;36m__setitem__\u001b[1;34m(self, key, value)\u001b[0m\n\u001b[0;32m   3158\u001b[0m             \u001b[0mself\u001b[0m\u001b[1;33m.\u001b[0m\u001b[0m_setitem_frame\u001b[0m\u001b[1;33m(\u001b[0m\u001b[0mkey\u001b[0m\u001b[1;33m,\u001b[0m \u001b[0mvalue\u001b[0m\u001b[1;33m)\u001b[0m\u001b[1;33m\u001b[0m\u001b[1;33m\u001b[0m\u001b[0m\n\u001b[0;32m   3159\u001b[0m         \u001b[1;32melif\u001b[0m \u001b[0misinstance\u001b[0m\u001b[1;33m(\u001b[0m\u001b[0mkey\u001b[0m\u001b[1;33m,\u001b[0m \u001b[1;33m(\u001b[0m\u001b[0mSeries\u001b[0m\u001b[1;33m,\u001b[0m \u001b[0mnp\u001b[0m\u001b[1;33m.\u001b[0m\u001b[0mndarray\u001b[0m\u001b[1;33m,\u001b[0m \u001b[0mlist\u001b[0m\u001b[1;33m,\u001b[0m \u001b[0mIndex\u001b[0m\u001b[1;33m)\u001b[0m\u001b[1;33m)\u001b[0m\u001b[1;33m:\u001b[0m\u001b[1;33m\u001b[0m\u001b[1;33m\u001b[0m\u001b[0m\n\u001b[1;32m-> 3160\u001b[1;33m             \u001b[0mself\u001b[0m\u001b[1;33m.\u001b[0m\u001b[0m_setitem_array\u001b[0m\u001b[1;33m(\u001b[0m\u001b[0mkey\u001b[0m\u001b[1;33m,\u001b[0m \u001b[0mvalue\u001b[0m\u001b[1;33m)\u001b[0m\u001b[1;33m\u001b[0m\u001b[1;33m\u001b[0m\u001b[0m\n\u001b[0m\u001b[0;32m   3161\u001b[0m         \u001b[1;32melse\u001b[0m\u001b[1;33m:\u001b[0m\u001b[1;33m\u001b[0m\u001b[1;33m\u001b[0m\u001b[0m\n\u001b[0;32m   3162\u001b[0m             \u001b[1;31m# set column\u001b[0m\u001b[1;33m\u001b[0m\u001b[1;33m\u001b[0m\u001b[1;33m\u001b[0m\u001b[0m\n",
      "\u001b[1;32m~\\AppData\\Roaming\\Python\\Python39\\site-packages\\pandas\\core\\frame.py\u001b[0m in \u001b[0;36m_setitem_array\u001b[1;34m(self, key, value)\u001b[0m\n\u001b[0;32m   3184\u001b[0m             \u001b[1;32mif\u001b[0m \u001b[0misinstance\u001b[0m\u001b[1;33m(\u001b[0m\u001b[0mvalue\u001b[0m\u001b[1;33m,\u001b[0m \u001b[0mDataFrame\u001b[0m\u001b[1;33m)\u001b[0m\u001b[1;33m:\u001b[0m\u001b[1;33m\u001b[0m\u001b[1;33m\u001b[0m\u001b[0m\n\u001b[0;32m   3185\u001b[0m                 \u001b[1;32mif\u001b[0m \u001b[0mlen\u001b[0m\u001b[1;33m(\u001b[0m\u001b[0mvalue\u001b[0m\u001b[1;33m.\u001b[0m\u001b[0mcolumns\u001b[0m\u001b[1;33m)\u001b[0m \u001b[1;33m!=\u001b[0m \u001b[0mlen\u001b[0m\u001b[1;33m(\u001b[0m\u001b[0mkey\u001b[0m\u001b[1;33m)\u001b[0m\u001b[1;33m:\u001b[0m\u001b[1;33m\u001b[0m\u001b[1;33m\u001b[0m\u001b[0m\n\u001b[1;32m-> 3186\u001b[1;33m                     \u001b[1;32mraise\u001b[0m \u001b[0mValueError\u001b[0m\u001b[1;33m(\u001b[0m\u001b[1;34m\"Columns must be same length as key\"\u001b[0m\u001b[1;33m)\u001b[0m\u001b[1;33m\u001b[0m\u001b[1;33m\u001b[0m\u001b[0m\n\u001b[0m\u001b[0;32m   3187\u001b[0m                 \u001b[1;32mfor\u001b[0m \u001b[0mk1\u001b[0m\u001b[1;33m,\u001b[0m \u001b[0mk2\u001b[0m \u001b[1;32min\u001b[0m \u001b[0mzip\u001b[0m\u001b[1;33m(\u001b[0m\u001b[0mkey\u001b[0m\u001b[1;33m,\u001b[0m \u001b[0mvalue\u001b[0m\u001b[1;33m.\u001b[0m\u001b[0mcolumns\u001b[0m\u001b[1;33m)\u001b[0m\u001b[1;33m:\u001b[0m\u001b[1;33m\u001b[0m\u001b[1;33m\u001b[0m\u001b[0m\n\u001b[0;32m   3188\u001b[0m                     \u001b[0mself\u001b[0m\u001b[1;33m[\u001b[0m\u001b[0mk1\u001b[0m\u001b[1;33m]\u001b[0m \u001b[1;33m=\u001b[0m \u001b[0mvalue\u001b[0m\u001b[1;33m[\u001b[0m\u001b[0mk2\u001b[0m\u001b[1;33m]\u001b[0m\u001b[1;33m\u001b[0m\u001b[1;33m\u001b[0m\u001b[0m\n",
      "\u001b[1;31mValueError\u001b[0m: Columns must be same length as key"
     ]
    }
   ],
   "source": [
    "roller_api[['Struc', 'Material', 'Seat', 'Intensity']] = roller_api['type'].str.split(', ', expand=True)"
   ]
  },
  {
   "cell_type": "code",
   "execution_count": null,
   "metadata": {},
   "outputs": [],
   "source": []
  },
  {
   "cell_type": "code",
   "execution_count": null,
   "metadata": {},
   "outputs": [],
   "source": [
    "for i in roller_api['type']:\n",
    "    row['Structure'] = i[0]\n",
    "    row['Material'] = i[1]\n",
    "    row['Seat'] = i[0]"
   ]
  },
  {
   "cell_type": "code",
   "execution_count": 62,
   "metadata": {
    "ExecuteTime": {
     "end_time": "2022-02-17T22:23:48.501569Z",
     "start_time": "2022-02-17T22:23:48.483553Z"
    }
   },
   "outputs": [
    {
     "data": {
      "text/plain": [
       "['Roller Coaster', 'Steel', 'Sit Down', 'Extreme']"
      ]
     },
     "execution_count": 62,
     "metadata": {},
     "output_type": "execute_result"
    }
   ],
   "source": [
    "roller_api['type'][1]"
   ]
  },
  {
   "cell_type": "markdown",
   "metadata": {},
   "source": [
    "### Columns with no interest\n",
    "Drop them all."
   ]
  },
  {
   "cell_type": "code",
   "execution_count": null,
   "metadata": {},
   "outputs": [],
   "source": [
    "roller_api.drop(columns = 'createdAt', 'updatedAt', '__v')"
   ]
  }
 ],
 "metadata": {
  "kernelspec": {
   "display_name": "Python 3",
   "language": "python",
   "name": "python3"
  },
  "language_info": {
   "codemirror_mode": {
    "name": "ipython",
    "version": 3
   },
   "file_extension": ".py",
   "mimetype": "text/x-python",
   "name": "python",
   "nbconvert_exporter": "python",
   "pygments_lexer": "ipython3",
   "version": "3.9.0"
  },
  "toc": {
   "base_numbering": 1,
   "nav_menu": {},
   "number_sections": true,
   "sideBar": true,
   "skip_h1_title": false,
   "title_cell": "Table of Contents",
   "title_sidebar": "Contents",
   "toc_cell": false,
   "toc_position": {},
   "toc_section_display": true,
   "toc_window_display": false
  },
  "varInspector": {
   "cols": {
    "lenName": 16,
    "lenType": 16,
    "lenVar": 40
   },
   "kernels_config": {
    "python": {
     "delete_cmd_postfix": "",
     "delete_cmd_prefix": "del ",
     "library": "var_list.py",
     "varRefreshCmd": "print(var_dic_list())"
    },
    "r": {
     "delete_cmd_postfix": ") ",
     "delete_cmd_prefix": "rm(",
     "library": "var_list.r",
     "varRefreshCmd": "cat(var_dic_list()) "
    }
   },
   "types_to_exclude": [
    "module",
    "function",
    "builtin_function_or_method",
    "instance",
    "_Feature"
   ],
   "window_display": false
  }
 },
 "nbformat": 4,
 "nbformat_minor": 4
}
